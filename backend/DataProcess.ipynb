{
  "nbformat": 4,
  "nbformat_minor": 0,
  "metadata": {
    "colab": {
      "name": "DataProcess.ipynb",
      "provenance": []
    },
    "kernelspec": {
      "name": "python3",
      "display_name": "Python 3"
    },
    "language_info": {
      "name": "python"
    }
  },
  "cells": [
    {
      "cell_type": "code",
      "metadata": {
        "id": "QRYBxlOGN61u"
      },
      "source": [
        "def day(frame, criterionForHeader, criterionForMeasure):\n",
        "    returnList = []\n",
        "    newList = []\n",
        "\n",
        "    for i in range(len(frame[criterionForHeader])):\n",
        "        newList= []\n",
        "        for j in range(len(frame[criterionForHeader][i])):\n",
        "            if (j > 0):\n",
        "                if (frame[criterionForHeader][i][j]['TimeStamp'][0:10] == frame[criterionForHeader][i][j - 1]['TimeStamp'][0:10]):\n",
        "                    newList[-1] = float(newList[-1]) + float(frame[criterionForHeader][i][j][criterionForMeasure])\n",
        "                else:\n",
        "                    newList.append(0)\n",
        "                    newList[-1] = float(frame[criterionForHeader][i][j][criterionForMeasure])\n",
        "\n",
        "            if (j == 0):\n",
        "                newList.append(float(frame[criterionForHeader][i][j][criterionForMeasure]))\n",
        "\n",
        "        returnList.append(newList)\n",
        "    return returnList"
      ],
      "execution_count": null,
      "outputs": []
    },
    {
      "cell_type": "markdown",
      "metadata": {
        "id": "N0TktyptOT8t"
      },
      "source": [
        "Argument1: Data frame that is extracted from the JSON database file\n",
        "Argument2: String that is specifies which product's data will be collected\n",
        "Argument3: String that specifies which data type will based on for sorting\n",
        "\n",
        "Description:\n",
        "\tThe function \"Day\" assigns day by day separated data which is extracted by the arguments to the list"
      ]
    },
    {
      "cell_type": "code",
      "metadata": {
        "id": "9efzrSgpOTow"
      },
      "source": [
        "def findTheOrder(list):\n",
        "    temp = 0\n",
        "    for i in range(len(list)):\n",
        "        for j in range(i, 0, -1):\n",
        "            if (list[j] < list[j - 1]):\n",
        "                temp = list[j]\n",
        "                list[j] = list[j - 1]\n",
        "                list[j - 1] = temp\n",
        "    return list"
      ],
      "execution_count": null,
      "outputs": []
    },
    {
      "cell_type": "markdown",
      "metadata": {
        "id": "sTMXy5JXOZBb"
      },
      "source": [
        "Argument: The two dimensional list which contains the value and the value's original index\n",
        "\n",
        "Description:\n",
        "\tThe function named \"findTheOrder\" sort the array with using insertion sort algorithm.\n",
        "\tand the second dimension is using for not lose to the original index of value"
      ]
    },
    {
      "cell_type": "code",
      "metadata": {
        "id": "D-CG8Hb2Og0q"
      },
      "source": [
        "def theChampionship(list):\n",
        "    returnValue = \"\"\n",
        "    m = 1\n",
        "    for i in range(len(list)):\n",
        "        returnValue = returnValue + str(m) + \". Apartment:\" + str(list[i][1]) + \" Consumption:\" + str(list[i][0]) + \"\\n\"\n",
        "        m += 1\n",
        "    return returnValue"
      ],
      "execution_count": null,
      "outputs": []
    },
    {
      "cell_type": "markdown",
      "metadata": {
        "id": "YVD46c9-OilN"
      },
      "source": [
        "Argument: The two dimensional list which contains the value and the apartment number.\n",
        "\n",
        "Description:\n",
        "\tThe function called \"theChampionship\" renders the championship results as wanted string format"
      ]
    },
    {
      "cell_type": "code",
      "metadata": {
        "id": "LNZ5-KyVOkdE"
      },
      "source": [
        "def month(frame, criterionForHeader, criterionForMeasure):\n",
        "    returnList = []\n",
        "    for i in range(len(frame[criterionForHeader])):\n",
        "        temp = [0.0, 0.0, 0.0, 0.0, 0.0, 0.0, 0.0, 0.0, 0.0, 0.0, 0.0, 0.0]\n",
        "        for j in range(len(frame[criterionForHeader][i])):\n",
        "            month = int(frame[criterionForHeader][i][j]['TimeStamp'][5:7])\n",
        "            temp[month - 1] = temp[month - 1] + float(frame[criterionForHeader][i][j][criterionForMeasure])\n",
        "        returnList.append(temp)\n",
        "\n",
        "    return returnList"
      ],
      "execution_count": null,
      "outputs": []
    },
    {
      "cell_type": "markdown",
      "metadata": {
        "id": "wIYlsMy0OuUg"
      },
      "source": [
        "Argument1: Data frame that is extracted from the JSON database file\n",
        "Argument2: String that is specifies which product's data will be collected\n",
        "Argument3: String that specifies which data type will based on for sorting\n",
        "\n",
        "Description:\n",
        "\tWith the help of arguments the wanted product's wanted measures are listed month by month\n",
        "\tand assigns them into a list"
      ]
    },
    {
      "cell_type": "code",
      "metadata": {
        "id": "jQwDw95fOsYM"
      },
      "source": [
        "def orderOfTheGiven(frame, criterion):\n",
        "    count = 0.0\n",
        "    apartments = []\n",
        "    maks = 0.0\n",
        "    numOfPeople = frame['people']\n",
        "\n",
        "    for i in range(len(frame[criterion])):\n",
        "        for j in range(len(frame[criterion][i])):\n",
        "            count += float(frame[criterion][i][j]['Consumption'])\n",
        "            if count >= maks:\n",
        "                maks = count\n",
        "        apartments.append([count / float(numOfPeople[i]), i])\n",
        "        count = 0\n",
        "    return findTheOrder(apartments)"
      ],
      "execution_count": null,
      "outputs": []
    },
    {
      "cell_type": "markdown",
      "metadata": {
        "id": "EQ-ZzQZ8QeEj"
      },
      "source": [
        "Argument1: Data frame that is extracted from the JSON database file\n",
        "Argument2: String that is specifies which product's data will be collected\n",
        "\n",
        "Description:\n",
        "\tCalculates wanted product's yearly amount of consumption. Finds the \n",
        "\tavarage consumption of each person in apartment then assigns the data into list.\n",
        "\tFinaly sorts the list with help of findTheOrder and returns."
      ]
    },
    {
      "cell_type": "code",
      "metadata": {
        "id": "-vQaaEswLl67"
      },
      "source": [
        "def monthOrder(list,numOfMonth,numOfPeople):\n",
        "    returnValue = \"\"\n",
        "    newArr = []\n",
        "\n",
        "    for i in range(len(list)):\n",
        "        newArr.append([list[i][numOfMonth]/float(numOfPeople[i]),i])\n",
        "\n",
        "    return newArr"
      ],
      "execution_count": null,
      "outputs": []
    },
    {
      "cell_type": "markdown",
      "metadata": {
        "id": "nRFVEmuKLpIR"
      },
      "source": [
        "Argument1: the List which is two dimensional and returned by month function\n",
        "Argument2: The int that stores the (number of month-1)\n",
        "\n",
        "Description:\n",
        "\tTakes a copy of the one dimension of argument list. Chooses the dimension with using\n",
        "\tnumber of month and sorts the data in it with indexes then finds the each persons average consumption.   According to these data creates the monthly championship results"
      ]
    }
  ]
}